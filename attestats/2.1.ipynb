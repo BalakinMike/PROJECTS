{
 "cells": [
  {
   "cell_type": "code",
   "execution_count": 14,
   "metadata": {},
   "outputs": [
    {
     "name": "stdout",
     "output_type": "stream",
     "text": [
      "Даданова Number = 6\n"
     ]
    }
   ],
   "source": [
    "import pandas as pd\n",
    "import numpy as np\n",
    "from pandas import Series, DataFrame\n",
    "df = pd.read_excel('1993_11.xlsx')\n",
    "column_data = df['Фамилия получателя']\n",
    "i = 0\n",
    "while column_data[i] != None:\n",
    "    if column_data[i] == 'Даданова':\n",
    "        print(column_data[i], f'Number = {i}' )\n",
    "        break\n",
    "    else:\n",
    "        i += 1 \n",
    "df_filtered = df.loc[df['Фамилия получателя'] == 'Даданова']\n",
    "df_filtered.to_excel (r'mydata.xlsx')\n",
    "# print(df_filtered[2])\n"
   ]
  },
  {
   "cell_type": "code",
   "execution_count": null,
   "metadata": {},
   "outputs": [],
   "source": [
    "import os\n",
    "import pandas as pd\n",
    "import numpy as np\n",
    "from pandas import Series, DataFrame\n",
    "\n",
    "family = input('Input searching family like (Иванов): ')\n",
    "directory = r'd:\\\\ProjectPython\\DataScience\\\\Makkini\\\\attestats'\n",
    "for filename in os.listdir(directory):\n",
    "    if filename.endswith(\".xlsx\"):\n",
    "        df = pd.read_excel(os.path.join(directory, filename)) \n",
    "        print(df)\n",
    "        df_filtered = df.loc[(df['Фамилия получателя'] == family)]\n",
    "        df_filtered.to_excel (rf'.\\\\attestats\\output\\{family}.xlsx')\n",
    "    else:\n",
    "        continue"
   ]
  },
  {
   "cell_type": "code",
   "execution_count": 32,
   "metadata": {},
   "outputs": [
    {
     "name": "stdout",
     "output_type": "stream",
     "text": [
      "Skipping non-xlsx file: attestats_searching.py\n",
      "Skipping non-xlsx file: output\n",
      "Skipping non-xlsx file: temp\n"
     ]
    }
   ],
   "source": [
    "import os\n",
    "import pandas as pd\n",
    "import numpy as np\n",
    "from pandas import Series, DataFrame\n",
    "\n",
    "\n",
    "def read_and_filter_excel(filename, family):\n",
    "    try:\n",
    "        df = pd.read_excel(filename)\n",
    "        df_filtered = df.loc[df['Фамилия получателя'] == family]\n",
    "        df_filtered.to_excel(f'.\\\\attestats\\\\output\\\\{family}.xlsx')\n",
    "    except Exception as e:\n",
    "        print(f\"Error processing file: {filename}\")\n",
    "        print(e)\n",
    "\n",
    "\n",
    "family = input('Input searching fanili, like (Иванов): ')\n",
    "directory = \"D:\\\\ProjectPython\\\\DataScience\\\\Makkini\\\\attestats\"\n",
    "\n",
    "if not os.path.exists(directory):\n",
    "    raise FileNotFoundError(f\"Directory not found: {directory}\")\n",
    "\n",
    "for filename in os.listdir(directory):\n",
    "    if filename.endswith(\".xlsx\"):\n",
    "        read_and_filter_excel(os.path.join(directory, filename), family)\n",
    "    else:\n",
    "        print(f\"Skipping non-xlsx file: {filename}\")"
   ]
  },
  {
   "cell_type": "code",
   "execution_count": 170,
   "metadata": {},
   "outputs": [
    {
     "name": "stdout",
     "output_type": "stream",
     "text": [
      "Фамилия получателя: Апаев\n",
      "Error processing file: 1.xlsx\n",
      "'Фамилия получателя'\n",
      "Vow\n",
      "Error processing file: 2022.xlsx\n",
      "'Фамилия получателя'\n"
     ]
    }
   ],
   "source": [
    "t_task = input('Input searching type of task: ')\n",
    "# task = int(input('Input searching task: '))\n",
    "task = input('Input searching task: ')\n",
    "print(f'{t_task}: {task}')\n",
    "# family = input('Input searching fanili, like (Иванов): ')\n",
    "directory = \"D:\\\\ProjectPython\\\\DataScience\\\\Makkini\\\\attestats\"\n",
    "for filename in os.listdir(directory):\n",
    "    if filename.endswith(\".xlsx\"):\n",
    "        try:\n",
    "            df = pd.read_excel(os.path.join(directory, filename))\n",
    "            df_filtered = df[(df[t_task] == task)]\n",
    "            # df_filtered = df[(df.t_task == task)]\n",
    "            if df_filtered.size != 0:\n",
    "                print('Vow')\n",
    "                df_filtered.to_excel (rf'.\\\\attestats\\\\output\\\\{filename}.xlsx')\n",
    "        except Exception as e:\n",
    "            print(f\"Error processing file: {filename}\")\n",
    "            print(e)"
   ]
  },
  {
   "cell_type": "code",
   "execution_count": null,
   "metadata": {},
   "outputs": [],
   "source": [
    "def search_parameters():\n",
    "    print(\"You can choose only one parameter:\\\n",
    "                    \\n1. Document number;\\\n",
    "                    \\n2.Recipient's last name;\\\n",
    "                    \\n3.Recipient's city of birth.\\nEnter value or 0\")\n",
    "    task = int(input('Document number: '))\n",
    "    if task != 0:\n",
    "        t_task = 'Номер документа'\n",
    "        print(t_task, task)\n",
    "        return t_task, task\n",
    "    task = input(\"Recipient's last name: \")\n",
    "    if task != '0':\n",
    "        t_task = 'Номер документа'\n",
    "        print(t_task, task)\n",
    "        return t_task, task\n",
    "    task = input(\"Recipient's city of birth: \").title()\n",
    "    if task != '0':\n",
    "        t_task = 'Место рождения'\n",
    "        print(t_task, task)\n",
    "        return t_task, task\n",
    "    \n"
   ]
  },
  {
   "cell_type": "code",
   "execution_count": null,
   "metadata": {},
   "outputs": [],
   "source": [
    "import re\n",
    "string = 'Горький'\n",
    "regex = re.compile(r'^')\n",
    "string = regex+string\n",
    "string\n",
    "# re.sub(regex,'г.',string)\n"
   ]
  },
  {
   "cell_type": "code",
   "execution_count": 5,
   "metadata": {},
   "outputs": [
    {
     "name": "stdout",
     "output_type": "stream",
     "text": [
      "['Горький', 'Горький', 'Горький', 'Горький', 'горький']\n"
     ]
    }
   ],
   "source": [
    "s = \"Горький, г. Горький. г.Горький, гГорький, горький\"\n",
    "# match = re.findall(r'Горький', s, re.I)\n",
    "ff = 'Горький'\n",
    "print(re.findall(rf'{task}', s, re.I))"
   ]
  }
 ],
 "metadata": {
  "kernelspec": {
   "display_name": "Python 3",
   "language": "python",
   "name": "python3"
  },
  "language_info": {
   "codemirror_mode": {
    "name": "ipython",
    "version": 3
   },
   "file_extension": ".py",
   "mimetype": "text/x-python",
   "name": "python",
   "nbconvert_exporter": "python",
   "pygments_lexer": "ipython3",
   "version": "3.10.2"
  }
 },
 "nbformat": 4,
 "nbformat_minor": 2
}
